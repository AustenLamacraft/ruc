{
 "cells": [
  {
   "cell_type": "markdown",
   "metadata": {},
   "source": [
    "# Quantum Channel for the Ancilla Density Matrix in Random Unitary Circuit\n",
    "\n",
    "![](RUC.png)\n",
    "\n",
    "We are going to evaluate the effect of the matrices along the diagonal slice on the ancilla density matrix. After summing over the indices $(s_1,s_2)$ for a neighbouring pair of sites we lose the final layer by unitarity, and we are left with:\n",
    "\n",
    "![](MPO.png)\n",
    "\n",
    "The input ancilla density matrix $\\rho_{a_1a_2a_3,\\bar a_1\\bar a_2 \\bar a_3}$ will be contracted in at the bottom, and the indices of the output matrix $\\rho'_{b_1b_2b_3,\\bar b_1\\bar b_2 \\bar b_3}$ will pop out of the top. The task is to evaluate $\\rho'$ for a given assignment of indices $b_j$ if all components of $\\rho$ are known.\n",
    "\n",
    "The first thing to notice is that the final index is traced over, lowering the dimension of the density matrix before we start. We then work from the [middle out](https://www.youtube.com/watch?v=0rhdOt9bOHE), contracting in a $U$ and $\\bar U$ at each step. This is an $O(N^2)$ operation, where $N=q^d$ for depth $d$."
   ]
  },
  {
   "cell_type": "code",
   "execution_count": 1,
   "metadata": {},
   "outputs": [],
   "source": [
    "import numpy as np\n",
    "from scipy.linalg import eigh\n",
    "import matplotlib.pyplot as plt\n",
    "import sys\n",
    "sys.path.append(\"../\")"
   ]
  },
  {
   "cell_type": "code",
   "execution_count": 2,
   "metadata": {},
   "outputs": [],
   "source": [
    "from ruc_einsum import ruc_channel, tensor_trace, trace_square, matrix_to_tensor, tensor_to_matrix, random_ρ"
   ]
  },
  {
   "cell_type": "markdown",
   "metadata": {},
   "source": [
    "## Complexity"
   ]
  },
  {
   "cell_type": "code",
   "execution_count": 3,
   "metadata": {},
   "outputs": [
    {
     "name": "stdout",
     "output_type": "stream",
     "text": [
      "1.21 ms ± 21.9 µs per loop (mean ± std. dev. of 7 runs, 1000 loops each)\n",
      "3.04 ms ± 130 µs per loop (mean ± std. dev. of 7 runs, 100 loops each)\n",
      "9.95 ms ± 423 µs per loop (mean ± std. dev. of 7 runs, 100 loops each)\n",
      "37.1 ms ± 1.53 ms per loop (mean ± std. dev. of 7 runs, 10 loops each)\n",
      "140 ms ± 2.1 ms per loop (mean ± std. dev. of 7 runs, 10 loops each)\n",
      "555 ms ± 11.9 ms per loop (mean ± std. dev. of 7 runs, 1 loop each)\n",
      "2.18 s ± 19 ms per loop (mean ± std. dev. of 7 runs, 1 loop each)\n",
      "9.46 s ± 145 ms per loop (mean ± std. dev. of 7 runs, 1 loop each)\n"
     ]
    }
   ],
   "source": [
    "timeit_results = []\n",
    "q = 2\n",
    "depths =  np.arange(5,13)\n",
    "for d in depths:\n",
    "    res = %timeit -o ruc_channel(random_ρ(q, d))\n",
    "    timeit_results.append(res.average)"
   ]
  },
  {
   "cell_type": "markdown",
   "metadata": {},
   "source": [
    "Check the $4^d$ scaling"
   ]
  },
  {
   "cell_type": "code",
   "execution_count": 4,
   "metadata": {},
   "outputs": [
    {
     "data": {
      "text/plain": [
       "[<matplotlib.lines.Line2D at 0x12370a9b0>,\n",
       " <matplotlib.lines.Line2D at 0x10e935e80>]"
      ]
     },
     "execution_count": 4,
     "metadata": {},
     "output_type": "execute_result"
    },
    {
     "data": {
      "image/png": "[encoded data removed]",
      "text/plain": [
       "<Figure size 432x288 with 1 Axes>"
      ]
     },
     "metadata": {
      "needs_background": "light"
     },
     "output_type": "display_data"
    }
   ],
   "source": [
    "plt.semilogy(depths, timeit_results, depths, 0.0000005*4**depths)"
   ]
  },
  {
   "cell_type": "markdown",
   "metadata": {},
   "source": [
    "## Purity"
   ]
  },
  {
   "cell_type": "code",
   "execution_count": 16,
   "metadata": {},
   "outputs": [
    {
     "name": "stdout",
     "output_type": "stream",
     "text": [
      "step  0\n",
      "step  10\n",
      "step  20\n",
      "step  30\n",
      "step  40\n",
      "step  50\n",
      "step  60\n",
      "step  70\n",
      "step  80\n",
      "step  90\n",
      "step  100\n",
      "step  110\n",
      "step  120\n",
      "step  130\n",
      "step  140\n",
      "step  150\n",
      "step  160\n",
      "step  170\n",
      "step  180\n",
      "step  190\n",
      "step  200\n",
      "step  210\n",
      "step  220\n",
      "step  230\n",
      "step  240\n",
      "step  250\n",
      "step  260\n",
      "step  270\n",
      "step  280\n",
      "step  290\n",
      "step  300\n",
      "step  310\n",
      "step  320\n",
      "step  330\n",
      "step  340\n",
      "step  350\n",
      "step  360\n",
      "step  370\n",
      "step  380\n",
      "step  390\n",
      "step  400\n",
      "step  410\n",
      "step  420\n",
      "step  430\n",
      "step  440\n",
      "step  450\n",
      "step  460\n",
      "step  470\n",
      "step  480\n",
      "step  490\n",
      "step  500\n",
      "step  510\n",
      "step  520\n",
      "step  530\n",
      "step  540\n",
      "step  550\n",
      "step  560\n",
      "step  570\n",
      "step  580\n",
      "step  590\n",
      "step  600\n",
      "step  610\n",
      "step  620\n",
      "step  630\n",
      "step  640\n",
      "step  650\n",
      "step  660\n",
      "step  670\n",
      "step  680\n",
      "step  690\n",
      "step  700\n",
      "step  710\n",
      "step  720\n",
      "step  730\n",
      "step  740\n",
      "step  750\n",
      "step  760\n",
      "step  770\n",
      "step  780\n",
      "step  790\n",
      "step  800\n",
      "step  810\n",
      "step  820\n",
      "step  830\n",
      "step  840\n",
      "step  850\n",
      "step  860\n",
      "step  870\n",
      "step  880\n",
      "step  890\n",
      "step  900\n",
      "step  910\n",
      "step  920\n",
      "step  930\n",
      "step  940\n",
      "step  950\n",
      "step  960\n",
      "step  970\n",
      "step  980\n",
      "step  990\n"
     ]
    }
   ],
   "source": [
    "q = 2\n",
    "depth = 6\n",
    "# ρ = np.zeros(2*depth*[q])\n",
    "# ρ[tuple(2*depth*[0])] = 1\n",
    "ρ = random_ρ(q, depth)\n",
    "purity_trace = np.array([])\n",
    "eigenvalues = np.array([])\n",
    "\n",
    "for step in range(1000):\n",
    "    purity_trace = np.append(purity_trace, trace_square(ρ))\n",
    "    if step % 10 == 0:\n",
    "        print(\"step \", step)\n",
    "        eigenvalues = np.concatenate([eigenvalues, eigh(tensor_to_matrix(ρ), eigvals_only=True)])\n",
    "    ρ = ruc_channel(ρ)"
   ]
  },
  {
   "cell_type": "code",
   "execution_count": 17,
   "metadata": {},
   "outputs": [
    {
     "data": {
      "text/plain": [
       "(1.9919817787265908+1.3735890252007013e-17j)"
      ]
     },
     "execution_count": 17,
     "metadata": {},
     "output_type": "execute_result"
    }
   ],
   "source": [
    "-np.log(np.mean(purity_trace))"
   ]
  },
  {
   "cell_type": "code",
   "execution_count": 18,
   "metadata": {},
   "outputs": [
    {
     "data": {
      "text/plain": [
       "1.562004859199468"
      ]
     },
     "execution_count": 18,
     "metadata": {},
     "output_type": "execute_result"
    }
   ],
   "source": [
    "-np.log((4/5)**7)"
   ]
  },
  {
   "cell_type": "code",
   "execution_count": 19,
   "metadata": {},
   "outputs": [
    {
     "data": {
      "text/plain": [
       "Text(0, 0.5, 'Second Renyi Entropy')"
      ]
     },
     "execution_count": 19,
     "metadata": {},
     "output_type": "execute_result"
    },
    {
     "data": {
      "image/png": "[encoded data removed]",
      "text/plain": [
       "<Figure size 432x288 with 1 Axes>"
      ]
     },
     "metadata": {
      "needs_background": "light"
     },
     "output_type": "display_data"
    }
   ],
   "source": [
    "plt.plot(-np.log(purity_trace))\n",
    "plt.xlabel(\"Step\")\n",
    "plt.ylabel(\"Second Renyi Entropy\")"
   ]
  },
  {
   "cell_type": "markdown",
   "metadata": {},
   "source": [
    "## Spectrum"
   ]
  },
  {
   "cell_type": "code",
   "execution_count": 20,
   "metadata": {},
   "outputs": [
    {
     "data": {
      "text/plain": [
       "(array([  6.,   4.,  13.,  13.,   9.,  10.,  23.,  19.,  22.,  25.,  37.,\n",
       "         51.,  47.,  53.,  69., 103., 121., 139., 122., 196., 204., 200.,\n",
       "        218., 216., 209., 185., 185., 191., 187., 210., 215., 222., 264.,\n",
       "        243., 239., 181., 314., 407., 403., 228.,  71.,  64.,  54.,  49.,\n",
       "        111., 125., 102.,  20.,   0.,   1.]),\n",
       " array([-17.16088798, -16.82310201, -16.48531603, -16.14753006,\n",
       "        -15.80974409, -15.47195811, -15.13417214, -14.79638617,\n",
       "        -14.45860019, -14.12081422, -13.78302825, -13.44524227,\n",
       "        -13.1074563 , -12.76967033, -12.43188435, -12.09409838,\n",
       "        -11.75631241, -11.41852643, -11.08074046, -10.74295449,\n",
       "        -10.40516851, -10.06738254,  -9.72959657,  -9.3918106 ,\n",
       "         -9.05402462,  -8.71623865,  -8.37845268,  -8.0406667 ,\n",
       "         -7.70288073,  -7.36509476,  -7.02730878,  -6.68952281,\n",
       "         -6.35173684,  -6.01395086,  -5.67616489,  -5.33837892,\n",
       "         -5.00059294,  -4.66280697,  -4.325021  ,  -3.98723502,\n",
       "         -3.64944905,  -3.31166308,  -2.9738771 ,  -2.63609113,\n",
       "         -2.29830516,  -1.96051918,  -1.62273321,  -1.28494724,\n",
       "         -0.94716126,  -0.60937529,  -0.27158932]),\n",
       " <a list of 50 Patch objects>)"
      ]
     },
     "execution_count": 20,
     "metadata": {},
     "output_type": "execute_result"
    },
    {
     "data": {
      "image/png": "[encoded data removed]",
      "text/plain": [
       "<Figure size 432x288 with 1 Axes>"
      ]
     },
     "metadata": {
      "needs_background": "light"
     },
     "output_type": "display_data"
    }
   ],
   "source": [
    "plt.hist(np.log(eigenvalues), bins=50)"
   ]
  },
  {
   "cell_type": "markdown",
   "metadata": {},
   "source": [
    "Compare with fully random density matrix"
   ]
  },
  {
   "cell_type": "code",
   "execution_count": 89,
   "metadata": {},
   "outputs": [
    {
     "data": {
      "text/plain": [
       "(array([  1.,   0.,   0.,   0.,   0.,   0.,   0.,   0.,   1.,   1.,   0.,\n",
       "          0.,   2.,   1.,   2.,   2.,   4.,   3.,   5.,   4.,   8.,   9.,\n",
       "         11.,  15.,  19.,  24.,  30.,  37.,  48.,  62.,  76.,  95., 118.,\n",
       "        138., 156., 137.,  14.,   0.,   0.,   0.,   0.,   0.,   0.,   0.,\n",
       "          0.,   0.,   0.,   0.,   0.,   1.]),\n",
       " array([-24.39240909, -23.91030403, -23.42819898, -22.94609393,\n",
       "        -22.46398888, -21.98188383, -21.49977878, -21.01767373,\n",
       "        -20.53556868, -20.05346363, -19.57135858, -19.08925353,\n",
       "        -18.60714848, -18.12504343, -17.64293838, -17.16083332,\n",
       "        -16.67872827, -16.19662322, -15.71451817, -15.23241312,\n",
       "        -14.75030807, -14.26820302, -13.78609797, -13.30399292,\n",
       "        -12.82188787, -12.33978282, -11.85767777, -11.37557272,\n",
       "        -10.89346767, -10.41136262,  -9.92925756,  -9.44715251,\n",
       "         -8.96504746,  -8.48294241,  -8.00083736,  -7.51873231,\n",
       "         -7.03662726,  -6.55452221,  -6.07241716,  -5.59031211,\n",
       "         -5.10820706,  -4.62610201,  -4.14399696,  -3.66189191,\n",
       "         -3.17978685,  -2.6976818 ,  -2.21557675,  -1.7334717 ,\n",
       "         -1.25136665,  -0.7692616 ,  -0.28715655]),\n",
       " <a list of 50 Patch objects>)"
      ]
     },
     "execution_count": 89,
     "metadata": {},
     "output_type": "execute_result"
    },
    {
     "data": {
      "image/png": "[encoded data removed]",
      "text/plain": [
       "<Figure size 432x288 with 1 Axes>"
      ]
     },
     "metadata": {
      "needs_background": "light"
     },
     "output_type": "display_data"
    }
   ],
   "source": [
    "plt.hist(np.log(eigh(tensor_to_matrix(random_ρ(2, 10)), eigvals_only=True)), bins=50)"
   ]
  },
  {
   "cell_type": "code",
   "execution_count": null,
   "metadata": {},
   "outputs": [],
   "source": []
  }
 ],
 "metadata": {
  "kernelspec": {
   "display_name": "Python 3",
   "language": "python",
   "name": "python3"
  },
  "language_info": {
   "codemirror_mode": {
    "name": "ipython",
    "version": 3
   },
   "file_extension": ".py",
   "mimetype": "text/x-python",
   "name": "python",
   "nbconvert_exporter": "python",
   "pygments_lexer": "ipython3",
   "version": "3.6.6"
  }
 },
 "nbformat": 4,
 "nbformat_minor": 2
}
