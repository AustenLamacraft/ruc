{
 "cells": [
  {
   "cell_type": "markdown",
   "metadata": {},
   "source": [
    "# Quantum Channel for the Ancilla Density Matrix in Random Unitary Circuit\n",
    "\n",
    "![](RUC.png)\n",
    "\n",
    "We are going to evaluate the effect of the matrices along the diagonal slice on the ancilla density matrix. After summing over the indices $(s_1,s_2)$ for a neighbouring pair of sites we lose the final layer by unitarity, and we are left with:\n",
    "\n",
    "![](MPO.png)\n",
    "\n",
    "The input ancilla density matrix $\\rho_{a_1a_2a_3,\\bar a_1\\bar a_2 \\bar a_3}$ will be contracted in at the bottom, and the indices of the output matrix $\\rho'_{b_1b_2b_3,\\bar b_1\\bar b_2 \\bar b_3}$ will pop out of the top. The task is to evaluate $\\rho'$ for a given assignment of indices $b_j$ if all components of $\\rho$ are known.\n",
    "\n",
    "The first thing to notice is that the final index is traced over, lowering the dimension of the density matrix before we start. We then work from the [middle out](https://www.youtube.com/watch?v=0rhdOt9bOHE), contracting in a $U$ and $\\bar U$ at each step. This is an $O(N^2)$ operation, where $N=q^d$ for depth $d$."
   ]
  },
  {
   "cell_type": "code",
   "execution_count": 1,
   "metadata": {},
   "outputs": [],
   "source": [
    "import numpy as np\n",
    "from scipy.linalg import eigh\n",
    "import matplotlib.pyplot as plt\n",
    "import sys\n",
    "sys.path.append(\"../\")"
   ]
  },
  {
   "cell_type": "code",
   "execution_count": 2,
   "metadata": {},
   "outputs": [],
   "source": [
    "from ruc_einsum import (cptp_map, apply_gates, tensor_trace, trace_square, matrix_to_tensor, \n",
    "                        tensor_to_matrix, random_ρ, random_gates, random_state, inner_product)"
   ]
  },
  {
   "cell_type": "markdown",
   "metadata": {},
   "source": [
    "## Einsum path optimization"
   ]
  },
  {
   "cell_type": "code",
   "execution_count": 3,
   "metadata": {},
   "outputs": [],
   "source": [
    "q = 2\n",
    "depth = 3\n",
    "gates = random_gates(q, depth)\n",
    "ρ = random_ρ(q, depth)\n",
    "path = np.einsum_path('aACx,bBCy,ab...->AB...xy', gates[0], gates[0].conj(), ρ, optimize='greedy')"
   ]
  },
  {
   "cell_type": "code",
   "execution_count": 4,
   "metadata": {},
   "outputs": [
    {
     "name": "stdout",
     "output_type": "stream",
     "text": [
      "['einsum_path', (0, 1), (0, 1)]\n"
     ]
    }
   ],
   "source": [
    "print(path[0])"
   ]
  },
  {
   "cell_type": "code",
   "execution_count": 5,
   "metadata": {},
   "outputs": [
    {
     "name": "stdout",
     "output_type": "stream",
     "text": [
      "  Complete contraction:  aACx,bBCy,abpcRO->ABpcROxy\n",
      "         Naive scaling:  11\n",
      "     Optimized scaling:  10\n",
      "      Naive FLOP count:  6.144e+03\n",
      "  Optimized FLOP count:  2.305e+03\n",
      "   Theoretical speedup:  2.666\n",
      "  Largest intermediate:  2.560e+02 elements\n",
      "--------------------------------------------------------------------------\n",
      "scaling                  current                                remaining\n",
      "--------------------------------------------------------------------------\n",
      "   7           bBCy,aACx->ABabxy                  abpcRO,ABabxy->ABpcROxy\n",
      "  10     ABabxy,abpcRO->ABpcROxy                       ABpcROxy->ABpcROxy\n"
     ]
    }
   ],
   "source": [
    "print(path[1])"
   ]
  },
  {
   "cell_type": "code",
   "execution_count": 6,
   "metadata": {},
   "outputs": [],
   "source": [
    "path = np.einsum_path('aACx,bBDy,CDab...->AB...xy', gates[0], gates[0].conj(), ρ, optimize='greedy')"
   ]
  },
  {
   "cell_type": "code",
   "execution_count": 7,
   "metadata": {},
   "outputs": [
    {
     "name": "stdout",
     "output_type": "stream",
     "text": [
      "['einsum_path', (0, 2), (0, 1)]\n"
     ]
    }
   ],
   "source": [
    "print(path[0])"
   ]
  },
  {
   "cell_type": "code",
   "execution_count": 8,
   "metadata": {},
   "outputs": [
    {
     "name": "stdout",
     "output_type": "stream",
     "text": [
      "  Complete contraction:  aACx,bBDy,CDabRO->ABROxy\n",
      "         Naive scaling:  10\n",
      "     Optimized scaling:  8\n",
      "      Naive FLOP count:  3.072e+03\n",
      "  Optimized FLOP count:  1.025e+03\n",
      "   Theoretical speedup:  2.997\n",
      "  Largest intermediate:  6.400e+01 elements\n",
      "--------------------------------------------------------------------------\n",
      "scaling                  current                                remaining\n",
      "--------------------------------------------------------------------------\n",
      "   8         CDabRO,aACx->ADORbx                      bBDy,ADORbx->ABROxy\n",
      "   8         ADORbx,bBDy->ABROxy                           ABROxy->ABROxy\n"
     ]
    }
   ],
   "source": [
    "print(path[1])"
   ]
  },
  {
   "cell_type": "code",
   "execution_count": 9,
   "metadata": {},
   "outputs": [],
   "source": [
    "path = np.einsum_path('Cx,Dy,CD...->...xy', gates[-1][0, 0], gates[-1][0, 0].conj(), ρ, optimize=True)"
   ]
  },
  {
   "cell_type": "code",
   "execution_count": 10,
   "metadata": {},
   "outputs": [
    {
     "name": "stdout",
     "output_type": "stream",
     "text": [
      "['einsum_path', (0, 2), (0, 1)]\n"
     ]
    }
   ],
   "source": [
    "print(path[0])"
   ]
  },
  {
   "cell_type": "code",
   "execution_count": 11,
   "metadata": {},
   "outputs": [
    {
     "name": "stdout",
     "output_type": "stream",
     "text": [
      "  Complete contraction:  Cx,Dy,CDpcRO->pcROxy\n",
      "         Naive scaling:  8\n",
      "     Optimized scaling:  7\n",
      "      Naive FLOP count:  7.680e+02\n",
      "  Optimized FLOP count:  5.130e+02\n",
      "   Theoretical speedup:  1.497\n",
      "  Largest intermediate:  6.400e+01 elements\n",
      "--------------------------------------------------------------------------\n",
      "scaling                  current                                remaining\n",
      "--------------------------------------------------------------------------\n",
      "   7           CDpcRO,Cx->DORcpx                        Dy,DORcpx->pcROxy\n",
      "   7           DORcpx,Dy->pcROxy                           pcROxy->pcROxy\n"
     ]
    }
   ],
   "source": [
    "print(path[1])"
   ]
  },
  {
   "cell_type": "markdown",
   "metadata": {},
   "source": [
    "## Complexity"
   ]
  },
  {
   "cell_type": "code",
   "execution_count": 12,
   "metadata": {},
   "outputs": [
    {
     "name": "stdout",
     "output_type": "stream",
     "text": [
      "1.74 ms ± 42 µs per loop (mean ± std. dev. of 7 runs, 1000 loops each)\n",
      "3.83 ms ± 601 µs per loop (mean ± std. dev. of 7 runs, 100 loops each)\n",
      "5.94 ms ± 789 µs per loop (mean ± std. dev. of 7 runs, 100 loops each)\n",
      "14 ms ± 609 µs per loop (mean ± std. dev. of 7 runs, 100 loops each)\n",
      "72.3 ms ± 9.13 ms per loop (mean ± std. dev. of 7 runs, 10 loops each)\n",
      "395 ms ± 52.2 ms per loop (mean ± std. dev. of 7 runs, 1 loop each)\n",
      "2.17 s ± 134 ms per loop (mean ± std. dev. of 7 runs, 1 loop each)\n",
      "14.6 s ± 205 ms per loop (mean ± std. dev. of 7 runs, 1 loop each)\n"
     ]
    }
   ],
   "source": [
    "timeit_results = []\n",
    "q = 2\n",
    "depths =  np.arange(5,13)\n",
    "for d in depths:\n",
    "    res = %timeit -o cptp_map(random_ρ(q, d), random_gates(q, d))\n",
    "    timeit_results.append(res.average)"
   ]
  },
  {
   "cell_type": "markdown",
   "metadata": {},
   "source": [
    "Check the $4^d$ scaling"
   ]
  },
  {
   "cell_type": "code",
   "execution_count": 13,
   "metadata": {},
   "outputs": [
    {
     "data": {
      "text/plain": [
       "[<matplotlib.lines.Line2D at 0x120823080>,\n",
       " <matplotlib.lines.Line2D at 0x1079b84e0>]"
      ]
     },
     "execution_count": 13,
     "metadata": {},
     "output_type": "execute_result"
    },
    {
     "data": {
      "image/png": "[encoded data removed]",
      "text/plain": [
       "<Figure size 432x288 with 1 Axes>"
      ]
     },
     "metadata": {
      "needs_background": "light"
     },
     "output_type": "display_data"
    }
   ],
   "source": [
    "plt.semilogy(depths, timeit_results, depths, 0.0000005*4**depths)"
   ]
  },
  {
   "cell_type": "markdown",
   "metadata": {},
   "source": [
    "## CPTP map simulation"
   ]
  },
  {
   "cell_type": "code",
   "execution_count": 6,
   "metadata": {},
   "outputs": [
    {
     "name": "stdout",
     "output_type": "stream",
     "text": [
      "step  0\n",
      "step  1\n",
      "step  2\n",
      "step  3\n",
      "step  4\n",
      "step  5\n",
      "step  6\n",
      "step  7\n",
      "step  8\n",
      "step  9\n",
      "step  10\n",
      "step  11\n",
      "step  12\n",
      "step  13\n",
      "step  14\n",
      "step  15\n",
      "step  16\n",
      "step  17\n",
      "step  18\n",
      "step  19\n",
      "step  20\n",
      "step  21\n",
      "step  22\n",
      "step  23\n",
      "step  24\n",
      "step  25\n",
      "step  26\n",
      "step  27\n",
      "step  28\n",
      "step  29\n",
      "step  30\n",
      "step  31\n",
      "step  32\n",
      "step  33\n",
      "step  34\n",
      "step  35\n",
      "step  36\n",
      "step  37\n",
      "step  38\n",
      "step  39\n",
      "step  40\n",
      "step  41\n",
      "step  42\n",
      "step  43\n",
      "step  44\n",
      "step  45\n",
      "step  46\n",
      "step  47\n",
      "step  48\n",
      "step  49\n",
      "step  50\n",
      "step  51\n",
      "step  52\n",
      "step  53\n",
      "step  54\n",
      "step  55\n",
      "step  56\n",
      "step  57\n",
      "step  58\n",
      "step  59\n",
      "step  60\n",
      "step  61\n",
      "step  62\n",
      "step  63\n",
      "step  64\n",
      "step  65\n",
      "step  66\n",
      "step  67\n",
      "step  68\n",
      "step  69\n",
      "step  70\n",
      "step  71\n",
      "step  72\n",
      "step  73\n",
      "step  74\n",
      "step  75\n",
      "step  76\n",
      "step  77\n",
      "step  78\n",
      "step  79\n",
      "step  80\n",
      "step  81\n",
      "step  82\n",
      "step  83\n",
      "step  84\n",
      "step  85\n",
      "step  86\n",
      "step  87\n",
      "step  88\n",
      "step  89\n",
      "step  90\n",
      "step  91\n",
      "step  92\n",
      "step  93\n",
      "step  94\n",
      "step  95\n",
      "step  96\n",
      "step  97\n",
      "step  98\n",
      "step  99\n"
     ]
    }
   ],
   "source": [
    "q = 2\n",
    "depth = 12\n",
    "# ρ = np.zeros(2*depth*[q])\n",
    "# ρ[tuple(2*depth*[0])] = 1\n",
    "ρ = random_ρ(q, depth)\n",
    "purity_trace = np.array([])\n",
    "eigenvalues = np.array([])\n",
    "\n",
    "for step in range(100):\n",
    "    purity_trace = np.append(purity_trace, trace_square(ρ))\n",
    "    eigenvalues = np.concatenate([eigenvalues, eigh(tensor_to_matrix(ρ), eigvals_only=True)])\n",
    "    ρ = cptp_map(ρ, random_gates(q, depth))\n",
    "    print(\"step \", step)"
   ]
  },
  {
   "cell_type": "markdown",
   "metadata": {},
   "source": [
    "## Purity from CPTP map"
   ]
  },
  {
   "cell_type": "code",
   "execution_count": 7,
   "metadata": {},
   "outputs": [
    {
     "data": {
      "text/plain": [
       "(0.08077306508143389-4.770970262010412e-19j)"
      ]
     },
     "execution_count": 7,
     "metadata": {},
     "output_type": "execute_result"
    }
   ],
   "source": [
    "np.mean(purity_trace)"
   ]
  },
  {
   "cell_type": "code",
   "execution_count": 8,
   "metadata": {},
   "outputs": [
    {
     "data": {
      "text/plain": [
       "(2.5161117219820848+5.906635160124738e-18j)"
      ]
     },
     "execution_count": 8,
     "metadata": {},
     "output_type": "execute_result"
    }
   ],
   "source": [
    "-np.log(np.mean(purity_trace))"
   ]
  },
  {
   "cell_type": "code",
   "execution_count": 10,
   "metadata": {},
   "outputs": [
    {
     "data": {
      "text/plain": [
       "2.6777226157705165"
      ]
     },
     "execution_count": 10,
     "metadata": {},
     "output_type": "execute_result"
    }
   ],
   "source": [
    "-np.log((4/5)**12)"
   ]
  },
  {
   "cell_type": "code",
   "execution_count": 11,
   "metadata": {},
   "outputs": [
    {
     "data": {
      "image/png": "[encoded data removed]",
      "text/plain": [
       "<Figure size 432x288 with 1 Axes>"
      ]
     },
     "metadata": {
      "needs_background": "light"
     },
     "output_type": "display_data"
    }
   ],
   "source": [
    "plt.plot(-np.log(np.real(purity_trace)))\n",
    "plt.xlabel(\"Step\")\n",
    "plt.ylabel(\"Second Renyi Entropy\");"
   ]
  },
  {
   "cell_type": "code",
   "execution_count": 12,
   "metadata": {},
   "outputs": [
    {
     "data": {
      "image/png": "[encoded data removed]",
      "text/plain": [
       "<Figure size 432x288 with 1 Axes>"
      ]
     },
     "metadata": {
      "needs_background": "light"
     },
     "output_type": "display_data"
    }
   ],
   "source": [
    "plt.hist(-np.log(np.real(purity_trace)), bins=50);"
   ]
  },
  {
   "cell_type": "markdown",
   "metadata": {},
   "source": [
    "## Spectrum"
   ]
  },
  {
   "cell_type": "code",
   "execution_count": 13,
   "metadata": {},
   "outputs": [
    {
     "name": "stderr",
     "output_type": "stream",
     "text": [
      "/Users/austen/anaconda/lib/python3.6/site-packages/ipykernel/__main__.py:1: RuntimeWarning: invalid value encountered in log\n",
      "  if __name__ == '__main__':\n",
      "/Users/austen/anaconda/lib/python3.6/site-packages/numpy/lib/histograms.py:746: RuntimeWarning: invalid value encountered in greater_equal\n",
      "  keep = (tmp_a >= first_edge)\n",
      "/Users/austen/anaconda/lib/python3.6/site-packages/numpy/lib/histograms.py:747: RuntimeWarning: invalid value encountered in less_equal\n",
      "  keep &= (tmp_a <= last_edge)\n"
     ]
    },
    {
     "data": {
      "image/png": "[encoded data removed]",
      "text/plain": [
       "<Figure size 432x288 with 1 Axes>"
      ]
     },
     "metadata": {
      "needs_background": "light"
     },
     "output_type": "display_data"
    }
   ],
   "source": [
    "plt.hist(np.log(eigenvalues), bins=200);"
   ]
  },
  {
   "cell_type": "markdown",
   "metadata": {},
   "source": [
    "Compare with fully random density matrix"
   ]
  },
  {
   "cell_type": "code",
   "execution_count": 31,
   "metadata": {},
   "outputs": [
    {
     "data": {
      "image/png": "[encoded data removed]",
      "text/plain": [
       "<Figure size 432x288 with 1 Axes>"
      ]
     },
     "metadata": {
      "needs_background": "light"
     },
     "output_type": "display_data"
    }
   ],
   "source": [
    "plt.hist(np.log(eigh(tensor_to_matrix(random_ρ(2, 10)), eigvals_only=True)), bins=100);"
   ]
  },
  {
   "cell_type": "markdown",
   "metadata": {},
   "source": [
    "## Purity from Trajectories\n",
    "\n",
    "Now we try it the second way using the relationship\n",
    "\n",
    "$$\n",
    "\\gamma = \\mathrm tr\\left[\\rho_A^2\\right] = \\mathbb{E}_{x_1:x_N,\\atop y_1:y_N}|\\langle\\psi_{x_1:x_N}|\\psi_{y_1:y_N}\\rangle|^2\n",
    "$$\n",
    "\n",
    "where $|\\psi_{x_1:x_N}\\rangle$ represents a normalized ancilla state arising from the trajectory $x_1:x_N$, where each step of the trajetory consists of a pair $x_j=(x^{(1)}_j, x^{(2)}_{j})$, where $x^{(1,2)}_j\\in 1,\\ldots q$.\n",
    "\n",
    "__Note__ that this way requires one extra unitary as we don't do the sum over $x_j$."
   ]
  },
  {
   "cell_type": "code",
   "execution_count": 51,
   "metadata": {},
   "outputs": [
    {
     "name": "stdout",
     "output_type": "stream",
     "text": [
      "step  0\n",
      "step  1000\n",
      "step  2000\n",
      "step  3000\n",
      "step  4000\n",
      "step  5000\n",
      "step  6000\n",
      "step  7000\n",
      "step  8000\n",
      "step  9000\n"
     ]
    }
   ],
   "source": [
    "q = 2\n",
    "depth = 10\n",
    "state1 = random_state(q, depth)\n",
    "state2 = state1\n",
    "purity_traj = np.array([])\n",
    "\n",
    "for step in range(10000):\n",
    "    purity_traj = np.append(purity_trace, np.abs(inner_product(state1, state2))**2)\n",
    "    gates = random_gates(q, depth + 1) # Need one more gate than in the CPTP case\n",
    "    state1 = apply_gates(state1, gates)\n",
    "    state2 = apply_gates(state2, gates)\n",
    "    if step % 1000 == 0:\n",
    "        print(\"step \", step)"
   ]
  },
  {
   "cell_type": "code",
   "execution_count": 52,
   "metadata": {},
   "outputs": [
    {
     "data": {
      "text/plain": [
       "[<matplotlib.lines.Line2D at 0x122798550>]"
      ]
     },
     "execution_count": 52,
     "metadata": {},
     "output_type": "execute_result"
    },
    {
     "data": {
      "image/png": "[encoded data removed]",
      "text/plain": [
       "<Figure size 432x288 with 1 Axes>"
      ]
     },
     "metadata": {
      "needs_background": "light"
     },
     "output_type": "display_data"
    }
   ],
   "source": [
    "plt.plot(purity_traj)"
   ]
  },
  {
   "cell_type": "code",
   "execution_count": 53,
   "metadata": {},
   "outputs": [
    {
     "data": {
      "text/plain": [
       "(0.10626561493164043-2.1590314665381085e-19j)"
      ]
     },
     "execution_count": 53,
     "metadata": {},
     "output_type": "execute_result"
    }
   ],
   "source": [
    "np.mean(purity_traj)"
   ]
  },
  {
   "cell_type": "code",
   "execution_count": 54,
   "metadata": {},
   "outputs": [
    {
     "data": {
      "text/plain": [
       "0.10737418240000006"
      ]
     },
     "execution_count": 54,
     "metadata": {},
     "output_type": "execute_result"
    }
   ],
   "source": [
    "(4/5)**10"
   ]
  },
  {
   "cell_type": "code",
   "execution_count": null,
   "metadata": {},
   "outputs": [],
   "source": []
  }
 ],
 "metadata": {
  "kernelspec": {
   "display_name": "Python [default]",
   "language": "python",
   "name": "python3"
  },
  "language_info": {
   "codemirror_mode": {
    "name": "ipython",
    "version": 3
   },
   "file_extension": ".py",
   "mimetype": "text/x-python",
   "name": "python",
   "nbconvert_exporter": "python",
   "pygments_lexer": "ipython3",
   "version": "3.6.6"
  }
 },
 "nbformat": 4,
 "nbformat_minor": 2
}
