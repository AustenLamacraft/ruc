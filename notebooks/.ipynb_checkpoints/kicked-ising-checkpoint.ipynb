{
 "cells": [
  {
   "cell_type": "markdown",
   "metadata": {},
   "source": [
    "# Kicked Ising"
   ]
  },
  {
   "cell_type": "code",
   "execution_count": 1,
   "metadata": {},
   "outputs": [],
   "source": [
    "import numpy as np\n",
    "from scipy.linalg import eigh\n",
    "import matplotlib.pyplot as plt\n",
    "import sys\n",
    "sys.path.append(\"../\")"
   ]
  },
  {
   "cell_type": "code",
   "execution_count": 2,
   "metadata": {},
   "outputs": [],
   "source": [
    "from ruc import (cptp_map, apply_gates, tensor_trace, trace_square, matrix_to_tensor, random_ρ,\n",
    "                        tensor_to_matrix, inner_product)"
   ]
  },
  {
   "cell_type": "markdown",
   "metadata": {},
   "source": [
    "## Kicked Ising circuit gate\n",
    "\n",
    "Let's build without randomness first"
   ]
  },
  {
   "cell_type": "code",
   "execution_count": 3,
   "metadata": {},
   "outputs": [],
   "source": [
    "def U_KIM(J, b):\n",
    "    X = np.array([[0,1], [1, 0]])\n",
    "    Z = np.array([[1,0], [0, -1]])\n",
    "    K = np.cos(b) * np.identity(2) - 1j * np.sin(b) * X\n",
    "    \n",
    "    ZZ = np.einsum(\"ab,cd->acbd\", Z, Z)\n",
    "    IdId = np.einsum(\"ab,cd->acbd\", np.identity(2), np.identity(2))\n",
    "    I = np.cos(J) * IdId - 1j * np.sin(J) * ZZ\n",
    "    \n",
    "    KK = np.einsum(\"ab,cd->acbd\", K, K)\n",
    "    return np.einsum(\"abcd,cdef,efjk->abjk\", I, KK, I)"
   ]
  },
  {
   "cell_type": "markdown",
   "metadata": {},
   "source": [
    "## Simulate circuit"
   ]
  },
  {
   "cell_type": "code",
   "execution_count": 6,
   "metadata": {},
   "outputs": [
    {
     "name": "stdout",
     "output_type": "stream",
     "text": [
      "step  0\n",
      "step  10\n",
      "step  20\n",
      "step  30\n",
      "step  40\n",
      "step  50\n",
      "step  60\n",
      "step  70\n",
      "step  80\n",
      "step  90\n"
     ]
    }
   ],
   "source": [
    "q = 2\n",
    "depth = 6\n",
    "KIM_gates = depth * [U_KIM(np.pi / 4, np.pi / 4)]\n",
    "ρ = matrix_to_tensor(np.identity(2**(depth - 1)), 2) / 2**(depth - 1)\n",
    "eigenvalues = np.array([])\n",
    "\n",
    "for step in range(100):\n",
    "    eigenvalues = np.concatenate([eigenvalues, eigh(tensor_to_matrix(ρ), eigvals_only=True)])\n",
    "    ρ = cptp_map(ρ, KIM_gates)\n",
    "    if step % 10 == 0:\n",
    "        print(\"step \", step)"
   ]
  },
  {
   "cell_type": "code",
   "execution_count": 7,
   "metadata": {},
   "outputs": [
    {
     "data": {
      "text/plain": [
       "array([0.03125, 0.03125, 0.03125, ..., 0.03125, 0.03125, 0.03125])"
      ]
     },
     "execution_count": 7,
     "metadata": {},
     "output_type": "execute_result"
    }
   ],
   "source": [
    "eigenvalues"
   ]
  },
  {
   "cell_type": "markdown",
   "metadata": {},
   "source": [
    "Eigenvalues are all $2^{-\\text{depth}}$"
   ]
  },
  {
   "cell_type": "code",
   "execution_count": 8,
   "metadata": {
    "scrolled": true
   },
   "outputs": [
    {
     "data": {
      "image/png": "[encoded data removed]",
      "text/plain": [
       "<Figure size 432x288 with 1 Axes>"
      ]
     },
     "metadata": {
      "needs_background": "light"
     },
     "output_type": "display_data"
    }
   ],
   "source": [
    "plt.hist(np.log(eigenvalues), bins=20);"
   ]
  },
  {
   "cell_type": "code",
   "execution_count": null,
   "metadata": {},
   "outputs": [],
   "source": []
  }
 ],
 "metadata": {
  "kernelspec": {
   "display_name": "Python 3",
   "language": "python",
   "name": "python3"
  },
  "language_info": {
   "codemirror_mode": {
    "name": "ipython",
    "version": 3
   },
   "file_extension": ".py",
   "mimetype": "text/x-python",
   "name": "python",
   "nbconvert_exporter": "python",
   "pygments_lexer": "ipython3",
   "version": "3.7.2"
  }
 },
 "nbformat": 4,
 "nbformat_minor": 2
}
