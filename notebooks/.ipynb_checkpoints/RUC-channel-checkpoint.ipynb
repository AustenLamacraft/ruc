{
 "cells": [
  {
   "cell_type": "markdown",
   "metadata": {},
   "source": [
    "# Quantum Channel for the Ancilla Density Matrix in Random Unitary Circuit\n",
    "\n",
    "![](MPS.png)\n",
    "\n",
    "We are going to evaluate the effect of the matrices along the diagonal slice on the ancilla density matrix. After summing over the indices $(s_1,s_2)$ for a neighbouring pair of sites we lose the final layer by unitarity, and we are left with:\n",
    "\n",
    "![](cptp.png)\n",
    "\n",
    "1. Trace over the first index of $R^{(j)}$\n",
    "  \n",
    "  $$\n",
    "    R^{(j)}_{a_{1:D},a'_{1:D}}\\rightarrow \\sum_{a}R^{(j)}_{a a_{1:D-1},a a'_{1:D-1}}\n",
    "  $$\n",
    "  \n",
    "  This reduces the number of indices of $R^{(j)}$ to $2(d-2)$, or $q^{2(d-2)}$ components.\n",
    "\n",
    "2. Apply the unitaries $U_{d-1}$ and $\\bar U_{d-1}$. This increases the rank of the resulting tensor back to $2(d-1)$.\n",
    "\n",
    "3. Continue applying unitaries from the __middle out__ for $j=d-2,\\ldots 2$.\n",
    "\n",
    "4. Apply $U_1$ and $U^\\dagger_1$, with the outer indices fixed."
   ]
  },
  {
   "cell_type": "code",
   "execution_count": 2,
   "metadata": {},
   "outputs": [],
   "source": [
    "import numpy as np\n",
    "from scipy.linalg import eigh\n",
    "import matplotlib.pyplot as plt\n",
    "import sys\n",
    "sys.path.append(\"../\")"
   ]
  },
  {
   "cell_type": "code",
   "execution_count": 13,
   "metadata": {},
   "outputs": [],
   "source": [
    "from ruc import (cptp_map, next_step, tensor_trace, trace_square, matrix_to_tensor, \n",
    "                        tensor_to_matrix, random_ρ, random_gates, random_state, inner_product)"
   ]
  },
  {
   "cell_type": "markdown",
   "metadata": {},
   "source": [
    "## Einsum path optimization"
   ]
  },
  {
   "cell_type": "code",
   "execution_count": 3,
   "metadata": {},
   "outputs": [],
   "source": [
    "q = 2\n",
    "depth = 3\n",
    "gates = random_gates(q, depth)\n",
    "ρ = random_ρ(q, depth)\n",
    "path = np.einsum_path('aACx,bBCy,ab...->AB...xy', gates[0], gates[0].conj(), ρ, optimize='greedy')"
   ]
  },
  {
   "cell_type": "code",
   "execution_count": 4,
   "metadata": {},
   "outputs": [
    {
     "name": "stdout",
     "output_type": "stream",
     "text": [
      "['einsum_path', (0, 1), (0, 1)]\n"
     ]
    }
   ],
   "source": [
    "print(path[0])"
   ]
  },
  {
   "cell_type": "code",
   "execution_count": 5,
   "metadata": {},
   "outputs": [
    {
     "name": "stdout",
     "output_type": "stream",
     "text": [
      "  Complete contraction:  aACx,bBCy,abcpsK->ABcpsKxy\n",
      "         Naive scaling:  11\n",
      "     Optimized scaling:  10\n",
      "      Naive FLOP count:  6.144e+03\n",
      "  Optimized FLOP count:  2.305e+03\n",
      "   Theoretical speedup:  2.666\n",
      "  Largest intermediate:  2.560e+02 elements\n",
      "--------------------------------------------------------------------------\n",
      "scaling                  current                                remaining\n",
      "--------------------------------------------------------------------------\n",
      "   7           bBCy,aACx->ABabxy                  abcpsK,ABabxy->ABcpsKxy\n",
      "  10     ABabxy,abcpsK->ABcpsKxy                       ABcpsKxy->ABcpsKxy\n"
     ]
    }
   ],
   "source": [
    "print(path[1])"
   ]
  },
  {
   "cell_type": "code",
   "execution_count": 6,
   "metadata": {},
   "outputs": [],
   "source": [
    "path = np.einsum_path('aACx,bBDy,CDab...->AB...xy', gates[0], gates[0].conj(), ρ, optimize='greedy')"
   ]
  },
  {
   "cell_type": "code",
   "execution_count": 7,
   "metadata": {},
   "outputs": [
    {
     "name": "stdout",
     "output_type": "stream",
     "text": [
      "['einsum_path', (0, 2), (0, 1)]\n"
     ]
    }
   ],
   "source": [
    "print(path[0])"
   ]
  },
  {
   "cell_type": "code",
   "execution_count": 8,
   "metadata": {},
   "outputs": [
    {
     "name": "stdout",
     "output_type": "stream",
     "text": [
      "  Complete contraction:  aACx,bBDy,CDabsK->ABsKxy\n",
      "         Naive scaling:  10\n",
      "     Optimized scaling:  8\n",
      "      Naive FLOP count:  3.072e+03\n",
      "  Optimized FLOP count:  1.025e+03\n",
      "   Theoretical speedup:  2.997\n",
      "  Largest intermediate:  6.400e+01 elements\n",
      "--------------------------------------------------------------------------\n",
      "scaling                  current                                remaining\n",
      "--------------------------------------------------------------------------\n",
      "   8         CDabsK,aACx->ADKbsx                      bBDy,ADKbsx->ABsKxy\n",
      "   8         ADKbsx,bBDy->ABsKxy                           ABsKxy->ABsKxy\n"
     ]
    }
   ],
   "source": [
    "print(path[1])"
   ]
  },
  {
   "cell_type": "code",
   "execution_count": 9,
   "metadata": {},
   "outputs": [],
   "source": [
    "path = np.einsum_path('Cx,Dy,CD...->...xy', gates[-1][0, 0], gates[-1][0, 0].conj(), ρ, optimize=True)"
   ]
  },
  {
   "cell_type": "code",
   "execution_count": 10,
   "metadata": {},
   "outputs": [
    {
     "name": "stdout",
     "output_type": "stream",
     "text": [
      "['einsum_path', (0, 2), (0, 1)]\n"
     ]
    }
   ],
   "source": [
    "print(path[0])"
   ]
  },
  {
   "cell_type": "code",
   "execution_count": 11,
   "metadata": {},
   "outputs": [
    {
     "name": "stdout",
     "output_type": "stream",
     "text": [
      "  Complete contraction:  Cx,Dy,CDpsKB->psKBxy\n",
      "         Naive scaling:  8\n",
      "     Optimized scaling:  7\n",
      "      Naive FLOP count:  7.680e+02\n",
      "  Optimized FLOP count:  5.130e+02\n",
      "   Theoretical speedup:  1.497\n",
      "  Largest intermediate:  6.400e+01 elements\n",
      "--------------------------------------------------------------------------\n",
      "scaling                  current                                remaining\n",
      "--------------------------------------------------------------------------\n",
      "   7           CDpsKB,Cx->BDKpsx                        Dy,BDKpsx->psKBxy\n",
      "   7           BDKpsx,Dy->psKBxy                           psKBxy->psKBxy\n"
     ]
    }
   ],
   "source": [
    "print(path[1])"
   ]
  },
  {
   "cell_type": "markdown",
   "metadata": {},
   "source": [
    "## Complexity\n",
    "\n",
    "Don't forget that __depth__ is the number of gates, one more than the number of indices"
   ]
  },
  {
   "cell_type": "code",
   "execution_count": 12,
   "metadata": {},
   "outputs": [
    {
     "name": "stdout",
     "output_type": "stream",
     "text": [
      "1.06 ms ± 11.8 µs per loop (mean ± std. dev. of 7 runs, 1000 loops each)\n",
      "1.37 ms ± 10.1 µs per loop (mean ± std. dev. of 7 runs, 1000 loops each)\n",
      "2.01 ms ± 72.5 µs per loop (mean ± std. dev. of 7 runs, 100 loops each)\n",
      "3.2 ms ± 64.8 µs per loop (mean ± std. dev. of 7 runs, 100 loops each)\n",
      "8.26 ms ± 200 µs per loop (mean ± std. dev. of 7 runs, 100 loops each)\n",
      "45.2 ms ± 791 µs per loop (mean ± std. dev. of 7 runs, 10 loops each)\n",
      "249 ms ± 4.05 ms per loop (mean ± std. dev. of 7 runs, 1 loop each)\n",
      "1.2 s ± 21.9 ms per loop (mean ± std. dev. of 7 runs, 1 loop each)\n"
     ]
    }
   ],
   "source": [
    "timeit_results = []\n",
    "q = 2\n",
    "depths =  np.arange(5,13)\n",
    "for d in depths:\n",
    "    res = %timeit -o cptp_map(random_ρ(q, d - 1), random_gates(q, d))\n",
    "    timeit_results.append(res.average)"
   ]
  },
  {
   "cell_type": "markdown",
   "metadata": {},
   "source": [
    "Check the $4^d$ scaling"
   ]
  },
  {
   "cell_type": "code",
   "execution_count": 13,
   "metadata": {},
   "outputs": [
    {
     "data": {
      "text/plain": [
       "[<matplotlib.lines.Line2D at 0x114de8160>,\n",
       " <matplotlib.lines.Line2D at 0x10737b630>]"
      ]
     },
     "execution_count": 13,
     "metadata": {},
     "output_type": "execute_result"
    },
    {
     "data": {
      "image/png": "[encoded data removed]",
      "text/plain": [
       "<Figure size 432x288 with 1 Axes>"
      ]
     },
     "metadata": {
      "needs_background": "light"
     },
     "output_type": "display_data"
    }
   ],
   "source": [
    "plt.semilogy(depths, timeit_results, depths, 0.00000005*4**depths)"
   ]
  },
  {
   "cell_type": "markdown",
   "metadata": {},
   "source": [
    "## CPTP map simulation"
   ]
  },
  {
   "cell_type": "code",
   "execution_count": 14,
   "metadata": {},
   "outputs": [
    {
     "name": "stdout",
     "output_type": "stream",
     "text": [
      "depth:  5\n",
      "depth:  6\n",
      "depth:  7\n",
      "depth:  8\n",
      "depth:  9\n",
      "depth:  10\n",
      "depth:  11\n"
     ]
    }
   ],
   "source": [
    "q = 2\n",
    "purities = []\n",
    "depths = np.arange(5, 12)\n",
    "for d in depths:\n",
    "    \n",
    "    print(\"depth: \", d)\n",
    "    ρ = random_ρ(q, d - 1)\n",
    "    purity_trace = np.array([])\n",
    "    eigenvalues = np.array([])\n",
    "\n",
    "    for step in range(1000):\n",
    "        purity_trace = np.append(purity_trace, trace_square(ρ))\n",
    "        eigenvalues = np.concatenate([eigenvalues, eigh(tensor_to_matrix(ρ), eigvals_only=True)])\n",
    "        ρ = cptp_map(ρ, random_gates(q, d))\n",
    "    \n",
    "    purities.append(np.mean(purity_trace))"
   ]
  },
  {
   "cell_type": "code",
   "execution_count": 15,
   "metadata": {},
   "outputs": [
    {
     "name": "stderr",
     "output_type": "stream",
     "text": [
      "/Users/austenlamacraft/anaconda3/lib/python3.7/site-packages/numpy/core/numeric.py:501: ComplexWarning: Casting complex values to real discards the imaginary part\n",
      "  return array(a, dtype, copy=False, order=order)\n"
     ]
    },
    {
     "data": {
      "image/png": "[encoded data removed]",
      "text/plain": [
       "<Figure size 432x288 with 1 Axes>"
      ]
     },
     "metadata": {
      "needs_background": "light"
     },
     "output_type": "display_data"
    }
   ],
   "source": [
    "plt.plot(depths, -np.log(purities))\n",
    "plt.plot(depths, (depths - 1) * np.log(5/4))\n",
    "plt.xlabel(\"Depth\")\n",
    "plt.ylabel(\"$-\\log\\gamma$\");"
   ]
  },
  {
   "cell_type": "code",
   "execution_count": 16,
   "metadata": {},
   "outputs": [],
   "source": [
    "np.save(\"purities\", purities)"
   ]
  },
  {
   "cell_type": "markdown",
   "metadata": {},
   "source": [
    "Fits nicely with the predicted $(4/5)^t$ behaviour of the purity!"
   ]
  },
  {
   "cell_type": "markdown",
   "metadata": {},
   "source": [
    "## Purity from CPTP map"
   ]
  },
  {
   "cell_type": "code",
   "execution_count": 5,
   "metadata": {},
   "outputs": [
    {
     "data": {
      "text/plain": [
       "(0.13320734449324811-1.8874435759237615e-18j)"
      ]
     },
     "execution_count": 5,
     "metadata": {},
     "output_type": "execute_result"
    }
   ],
   "source": [
    "np.mean(purity_trace)"
   ]
  },
  {
   "cell_type": "code",
   "execution_count": 6,
   "metadata": {},
   "outputs": [
    {
     "data": {
      "text/plain": [
       "(2.015848383557739+1.416921554216127e-17j)"
      ]
     },
     "execution_count": 6,
     "metadata": {},
     "output_type": "execute_result"
    }
   ],
   "source": [
    "-np.log(np.mean(purity_trace))"
   ]
  },
  {
   "cell_type": "code",
   "execution_count": 9,
   "metadata": {},
   "outputs": [
    {
     "data": {
      "text/plain": [
       "2.0082919618278874"
      ]
     },
     "execution_count": 9,
     "metadata": {},
     "output_type": "execute_result"
    }
   ],
   "source": [
    "-np.log((4/5)**9)"
   ]
  },
  {
   "cell_type": "code",
   "execution_count": 64,
   "metadata": {},
   "outputs": [
    {
     "ename": "NameError",
     "evalue": "name 'purity_trace' is not defined",
     "output_type": "error",
     "traceback": [
      "\u001b[0;31m---------------------------------------------------------------------------\u001b[0m",
      "\u001b[0;31mNameError\u001b[0m                                 Traceback (most recent call last)",
      "\u001b[0;32m<ipython-input-64-c7c4e7fa570a>\u001b[0m in \u001b[0;36m<module>\u001b[0;34m\u001b[0m\n\u001b[0;32m----> 1\u001b[0;31m \u001b[0mplt\u001b[0m\u001b[0;34m.\u001b[0m\u001b[0mplot\u001b[0m\u001b[0;34m(\u001b[0m\u001b[0;34m-\u001b[0m\u001b[0mnp\u001b[0m\u001b[0;34m.\u001b[0m\u001b[0mlog\u001b[0m\u001b[0;34m(\u001b[0m\u001b[0mnp\u001b[0m\u001b[0;34m.\u001b[0m\u001b[0mreal\u001b[0m\u001b[0;34m(\u001b[0m\u001b[0mpurity_trace\u001b[0m\u001b[0;34m)\u001b[0m\u001b[0;34m)\u001b[0m\u001b[0;34m)\u001b[0m\u001b[0;34m\u001b[0m\u001b[0;34m\u001b[0m\u001b[0m\n\u001b[0m\u001b[1;32m      2\u001b[0m \u001b[0mplt\u001b[0m\u001b[0;34m.\u001b[0m\u001b[0mxlabel\u001b[0m\u001b[0;34m(\u001b[0m\u001b[0;34m\"Step\"\u001b[0m\u001b[0;34m)\u001b[0m\u001b[0;34m\u001b[0m\u001b[0;34m\u001b[0m\u001b[0m\n\u001b[1;32m      3\u001b[0m \u001b[0mplt\u001b[0m\u001b[0;34m.\u001b[0m\u001b[0mylabel\u001b[0m\u001b[0;34m(\u001b[0m\u001b[0;34m\"Second Renyi Entropy\"\u001b[0m\u001b[0;34m)\u001b[0m\u001b[0;34m;\u001b[0m\u001b[0;34m\u001b[0m\u001b[0;34m\u001b[0m\u001b[0m\n",
      "\u001b[0;31mNameError\u001b[0m: name 'purity_trace' is not defined"
     ]
    }
   ],
   "source": [
    "plt.plot(-np.log(np.real(purity_trace)))\n",
    "plt.xlabel(\"Step\")\n",
    "plt.ylabel(\"Second Renyi Entropy\");"
   ]
  },
  {
   "cell_type": "code",
   "execution_count": 24,
   "metadata": {},
   "outputs": [
    {
     "data": {
      "image/png": "[encoded data removed]",
      "text/plain": [
       "<Figure size 432x288 with 1 Axes>"
      ]
     },
     "metadata": {
      "needs_background": "light"
     },
     "output_type": "display_data"
    }
   ],
   "source": [
    "plt.hist(-np.log(np.real(purity_trace)), bins=50);"
   ]
  },
  {
   "cell_type": "markdown",
   "metadata": {},
   "source": [
    "## Spectrum"
   ]
  },
  {
   "cell_type": "code",
   "execution_count": 63,
   "metadata": {},
   "outputs": [
    {
     "ename": "NameError",
     "evalue": "name 'eigenvalues' is not defined",
     "output_type": "error",
     "traceback": [
      "\u001b[0;31m---------------------------------------------------------------------------\u001b[0m",
      "\u001b[0;31mNameError\u001b[0m                                 Traceback (most recent call last)",
      "\u001b[0;32m<ipython-input-63-ca149b534568>\u001b[0m in \u001b[0;36m<module>\u001b[0;34m\u001b[0m\n\u001b[0;32m----> 1\u001b[0;31m \u001b[0mplt\u001b[0m\u001b[0;34m.\u001b[0m\u001b[0mhist\u001b[0m\u001b[0;34m(\u001b[0m\u001b[0mnp\u001b[0m\u001b[0;34m.\u001b[0m\u001b[0mlog\u001b[0m\u001b[0;34m(\u001b[0m\u001b[0meigenvalues\u001b[0m\u001b[0;34m)\u001b[0m\u001b[0;34m,\u001b[0m \u001b[0mbins\u001b[0m\u001b[0;34m=\u001b[0m\u001b[0;36m200\u001b[0m\u001b[0;34m)\u001b[0m\u001b[0;34m;\u001b[0m\u001b[0;34m\u001b[0m\u001b[0;34m\u001b[0m\u001b[0m\n\u001b[0m",
      "\u001b[0;31mNameError\u001b[0m: name 'eigenvalues' is not defined"
     ]
    }
   ],
   "source": [
    "plt.hist(np.log(eigenvalues), bins=200);"
   ]
  },
  {
   "cell_type": "markdown",
   "metadata": {},
   "source": [
    "Compare with fully random density matrix"
   ]
  },
  {
   "cell_type": "code",
   "execution_count": 26,
   "metadata": {},
   "outputs": [
    {
     "data": {
      "image/png": "[encoded data removed]",
      "text/plain": [
       "<Figure size 432x288 with 1 Axes>"
      ]
     },
     "metadata": {
      "needs_background": "light"
     },
     "output_type": "display_data"
    }
   ],
   "source": [
    "plt.hist(np.log(eigh(tensor_to_matrix(random_ρ(2, 10)), eigvals_only=True)), bins=100);"
   ]
  },
  {
   "cell_type": "markdown",
   "metadata": {},
   "source": [
    "## Purity from Trajectories\n",
    "\n",
    "Now we try it the second way using the relationship\n",
    "\n",
    "$$\n",
    "\\gamma = \\mathrm tr\\left[\\rho_A^2\\right] = \\mathbb{E}|\\langle\\psi_{x_1:x_N}|\\psi_{y_1:y_N}\\rangle|^2\n",
    "$$\n",
    "\n",
    "where $|\\psi_{x_1:x_N}\\rangle$ represents a normalized ancilla state arising from the trajectory $x_1:x_N$, where each step of the trajetory consists of a pair $x_j=(x^{(1)}_j, x^{(2)}_{j})$, where $x^{(1,2)}_j\\in 1,\\ldots q$. It is important that the trajectories are sampled from the probabilites corresponding to the ancilla states followed.\n",
    "\n",
    "__Note__ that this way requires one extra unitary as we don't do the sum over $x_j$.\n",
    "\n",
    "__Opportunity__ to parallelize as one just needs to gather the inner products across trajectories"
   ]
  },
  {
   "cell_type": "code",
   "execution_count": 19,
   "metadata": {},
   "outputs": [],
   "source": [
    "import time"
   ]
  },
  {
   "cell_type": "code",
   "execution_count": 20,
   "metadata": {},
   "outputs": [
    {
     "name": "stdout",
     "output_type": "stream",
     "text": [
      "Depth:  5\n",
      "Fri Feb 15 16:20:25 2019\n",
      "Depth:  6\n",
      "Fri Feb 15 16:20:26 2019\n",
      "Depth:  7\n",
      "Fri Feb 15 16:20:27 2019\n",
      "Depth:  8\n",
      "Fri Feb 15 16:20:29 2019\n",
      "Depth:  9\n",
      "Fri Feb 15 16:20:30 2019\n",
      "Depth:  10\n",
      "Fri Feb 15 16:20:33 2019\n",
      "Depth:  11\n",
      "Fri Feb 15 16:20:37 2019\n",
      "Depth:  12\n",
      "Fri Feb 15 16:20:44 2019\n",
      "Depth:  13\n",
      "Fri Feb 15 16:21:00 2019\n",
      "Depth:  14\n",
      "Fri Feb 15 16:21:33 2019\n",
      "Depth:  15\n",
      "Fri Feb 15 16:22:42 2019\n",
      "Depth:  16\n",
      "Fri Feb 15 16:25:08 2019\n",
      "Depth:  17\n",
      "Fri Feb 15 16:30:16 2019\n",
      "Depth:  18\n",
      "Fri Feb 15 16:41:30 2019\n"
     ]
    }
   ],
   "source": [
    "q = 2\n",
    "purities_traj = []\n",
    "variances = []\n",
    "depths = np.arange(5, 19)\n",
    "for d in depths:\n",
    "    \n",
    "    print(\"Depth: \", d)\n",
    "    print(time.ctime())\n",
    "    state1 = random_state(q, d - 1)\n",
    "    state2 = state1\n",
    "    purity_traj = np.array([])\n",
    "\n",
    "    for step in range(1000):\n",
    "        purity_traj = np.append(purity_traj, np.abs(inner_product(state1, state2))**2)\n",
    "        gates = random_gates(q, d) \n",
    "        probs1, states1 = next_step(state1, gates)\n",
    "        probs2, states2 = next_step(state2, gates)\n",
    "        state1 = states1[np.random.choice(range(q**2), p=probs1)]\n",
    "        state2 = states2[np.random.choice(range(q**2), p=probs2)]\n",
    "    \n",
    "    purities_traj.append(np.mean(purity_traj))\n",
    "    variances.append(np.var(purity_traj))\n"
   ]
  },
  {
   "cell_type": "code",
   "execution_count": 23,
   "metadata": {},
   "outputs": [],
   "source": [
    "np.save(\"traj_purity\", purities_traj)\n",
    "np.save(\"traj_purity_vars\", variances)"
   ]
  },
  {
   "cell_type": "markdown",
   "metadata": {},
   "source": [
    "## Plotting results"
   ]
  },
  {
   "cell_type": "code",
   "execution_count": 17,
   "metadata": {},
   "outputs": [],
   "source": [
    "purities_traj = np.load(\"traj_purity.npy\")\n",
    "variances = np.load(\"traj_purity_vars.npy\")\n",
    "purities = np.load(\"purities.npy\")"
   ]
  },
  {
   "cell_type": "code",
   "execution_count": 30,
   "metadata": {},
   "outputs": [
    {
     "data": {
      "image/png": "[encoded data removed]",
      "text/plain": [
       "<Figure size 432x288 with 1 Axes>"
      ]
     },
     "metadata": {
      "needs_background": "light"
     },
     "output_type": "display_data"
    }
   ],
   "source": [
    "depths = np.arange(5,12)\n",
    "plt.semilogy(depths, purities)\n",
    "depths = np.arange(5,19)\n",
    "plt.semilogy(depths, purities_traj)\n",
    "plt.semilogy(depths, (4/5)**(depths - 1))\n",
    "plt.xlabel(\"Depth\")\n",
    "plt.ylabel(\"\\bar \\gamma\");"
   ]
  },
  {
   "cell_type": "code",
   "execution_count": null,
   "metadata": {},
   "outputs": [],
   "source": []
  }
 ],
 "metadata": {
  "kernelspec": {
   "display_name": "Python 3",
   "language": "python",
   "name": "python3"
  }
 },
 "nbformat": 4,
 "nbformat_minor": 2
}
