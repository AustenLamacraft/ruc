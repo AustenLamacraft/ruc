{
 "cells": [
  {
   "cell_type": "markdown",
   "metadata": {},
   "source": [
    "# Quantum Channel for the Ancilla Density Matrix in Random Unitary Circuit\n",
    "\n",
    "![](MPS.png)\n",
    "\n",
    "We are going to evaluate the effect of the matrices along the diagonal slice on the ancilla density matrix. After summing over the indices $(s_1,s_2)$ for a neighbouring pair of sites we lose the final layer by unitarity, and we are left with:\n",
    "\n",
    "![](cptp.png)\n",
    "\n",
    "1. Trace over the first index of $R^{(j)}$\n",
    "  \n",
    "  $$\n",
    "    R^{(j)}_{a_{1:D},a'_{1:D}}\\rightarrow \\sum_{a}R^{(j)}_{a a_{1:D-1},a a'_{1:D-1}}\n",
    "  $$\n",
    "  \n",
    "  This reduces the number of indices of $R^{(j)}$ to $2(d-2)$, or $q^{2(d-2)}$ components.\n",
    "\n",
    "2. Apply the unitaries $U_{d-1}$ and $\\bar U_{d-1}$. This increases the rank of the resulting tensor back to $2(d-1)$.\n",
    "\n",
    "3. Continue applying unitaries from the __middle out__ for $j=d-2,\\ldots 2$.\n",
    "\n",
    "4. Apply $U_1$ and $U^\\dagger_1$, with the outer indices fixed."
   ]
  },
  {
   "cell_type": "code",
   "execution_count": 1,
   "metadata": {},
   "outputs": [],
   "source": [
    "import numpy as np\n",
    "from scipy.linalg import eigh\n",
    "import matplotlib.pyplot as plt\n",
    "import sys\n",
    "sys.path.append(\"../\")"
   ]
  },
  {
   "cell_type": "code",
   "execution_count": 2,
   "metadata": {},
   "outputs": [],
   "source": [
    "from ruc import (cptp_map, next_step, tensor_trace, trace_square, matrix_to_tensor, \n",
    "                        tensor_to_matrix, random_ρ, random_gates, random_state, inner_product)"
   ]
  },
  {
   "cell_type": "markdown",
   "metadata": {},
   "source": [
    "## Einsum path optimization"
   ]
  },
  {
   "cell_type": "code",
   "execution_count": 3,
   "metadata": {},
   "outputs": [],
   "source": [
    "q = 2\n",
    "depth = 3\n",
    "gates = random_gates(q, depth)\n",
    "ρ = random_ρ(q, depth)\n",
    "path = np.einsum_path('aACx,bBCy,ab...->AB...xy', gates[0], gates[0].conj(), ρ, optimize='greedy')"
   ]
  },
  {
   "cell_type": "code",
   "execution_count": 4,
   "metadata": {},
   "outputs": [
    {
     "name": "stdout",
     "output_type": "stream",
     "text": [
      "['einsum_path', (0, 1), (0, 1)]\n"
     ]
    }
   ],
   "source": [
    "print(path[0])"
   ]
  },
  {
   "cell_type": "code",
   "execution_count": 5,
   "metadata": {},
   "outputs": [
    {
     "name": "stdout",
     "output_type": "stream",
     "text": [
      "  Complete contraction:  aACx,bBCy,abzPIR->ABzPIRxy\n",
      "         Naive scaling:  11\n",
      "     Optimized scaling:  10\n",
      "      Naive FLOP count:  6.144e+03\n",
      "  Optimized FLOP count:  2.305e+03\n",
      "   Theoretical speedup:  2.666\n",
      "  Largest intermediate:  2.560e+02 elements\n",
      "--------------------------------------------------------------------------\n",
      "scaling                  current                                remaining\n",
      "--------------------------------------------------------------------------\n",
      "   7           bBCy,aACx->ABabxy                  abzPIR,ABabxy->ABzPIRxy\n",
      "  10     ABabxy,abzPIR->ABzPIRxy                       ABzPIRxy->ABzPIRxy\n"
     ]
    }
   ],
   "source": [
    "print(path[1])"
   ]
  },
  {
   "cell_type": "code",
   "execution_count": 6,
   "metadata": {},
   "outputs": [],
   "source": [
    "path = np.einsum_path('aACx,bBDy,CDab...->AB...xy', gates[0], gates[0].conj(), ρ, optimize='greedy')"
   ]
  },
  {
   "cell_type": "code",
   "execution_count": 7,
   "metadata": {},
   "outputs": [
    {
     "name": "stdout",
     "output_type": "stream",
     "text": [
      "['einsum_path', (0, 2), (0, 1)]\n"
     ]
    }
   ],
   "source": [
    "print(path[0])"
   ]
  },
  {
   "cell_type": "code",
   "execution_count": 8,
   "metadata": {},
   "outputs": [
    {
     "name": "stdout",
     "output_type": "stream",
     "text": [
      "  Complete contraction:  aACx,bBDy,CDabIR->ABIRxy\n",
      "         Naive scaling:  10\n",
      "     Optimized scaling:  8\n",
      "      Naive FLOP count:  3.072e+03\n",
      "  Optimized FLOP count:  1.025e+03\n",
      "   Theoretical speedup:  2.997\n",
      "  Largest intermediate:  6.400e+01 elements\n",
      "--------------------------------------------------------------------------\n",
      "scaling                  current                                remaining\n",
      "--------------------------------------------------------------------------\n",
      "   8         CDabIR,aACx->ADIRbx                      bBDy,ADIRbx->ABIRxy\n",
      "   8         ADIRbx,bBDy->ABIRxy                           ABIRxy->ABIRxy\n"
     ]
    }
   ],
   "source": [
    "print(path[1])"
   ]
  },
  {
   "cell_type": "code",
   "execution_count": 9,
   "metadata": {},
   "outputs": [],
   "source": [
    "path = np.einsum_path('Cx,Dy,CD...->...xy', gates[-1][0, 0], gates[-1][0, 0].conj(), ρ, optimize=True)"
   ]
  },
  {
   "cell_type": "code",
   "execution_count": 10,
   "metadata": {},
   "outputs": [
    {
     "name": "stdout",
     "output_type": "stream",
     "text": [
      "['einsum_path', (0, 2), (0, 1)]\n"
     ]
    }
   ],
   "source": [
    "print(path[0])"
   ]
  },
  {
   "cell_type": "code",
   "execution_count": 11,
   "metadata": {},
   "outputs": [
    {
     "name": "stdout",
     "output_type": "stream",
     "text": [
      "  Complete contraction:  Cx,Dy,CDzPIR->zPIRxy\n",
      "         Naive scaling:  8\n",
      "     Optimized scaling:  7\n",
      "      Naive FLOP count:  7.680e+02\n",
      "  Optimized FLOP count:  5.130e+02\n",
      "   Theoretical speedup:  1.497\n",
      "  Largest intermediate:  6.400e+01 elements\n",
      "--------------------------------------------------------------------------\n",
      "scaling                  current                                remaining\n",
      "--------------------------------------------------------------------------\n",
      "   7           CDzPIR,Cx->DIPRxz                        Dy,DIPRxz->zPIRxy\n",
      "   7           DIPRxz,Dy->zPIRxy                           zPIRxy->zPIRxy\n"
     ]
    }
   ],
   "source": [
    "print(path[1])"
   ]
  },
  {
   "cell_type": "markdown",
   "metadata": {},
   "source": [
    "## Complexity\n",
    "\n",
    "Don't forget that __depth__ is the number of gates, one more than the number of indices"
   ]
  },
  {
   "cell_type": "code",
   "execution_count": 12,
   "metadata": {},
   "outputs": [
    {
     "name": "stdout",
     "output_type": "stream",
     "text": [
      "1.1 ms ± 11.5 µs per loop (mean ± std. dev. of 7 runs, 1000 loops each)\n",
      "1.4 ms ± 9.33 µs per loop (mean ± std. dev. of 7 runs, 1000 loops each)\n",
      "2.02 ms ± 47.9 µs per loop (mean ± std. dev. of 7 runs, 100 loops each)\n",
      "3.34 ms ± 41 µs per loop (mean ± std. dev. of 7 runs, 100 loops each)\n",
      "9.01 ms ± 140 µs per loop (mean ± std. dev. of 7 runs, 100 loops each)\n",
      "51.2 ms ± 2.87 ms per loop (mean ± std. dev. of 7 runs, 10 loops each)\n",
      "317 ms ± 18.2 ms per loop (mean ± std. dev. of 7 runs, 1 loop each)\n",
      "1.27 s ± 12.3 ms per loop (mean ± std. dev. of 7 runs, 1 loop each)\n"
     ]
    }
   ],
   "source": [
    "timeit_results = []\n",
    "q = 2\n",
    "depths =  np.arange(5,13)\n",
    "for d in depths:\n",
    "    res = %timeit -o cptp_map(random_ρ(q, d - 1), random_gates(q, d))\n",
    "    timeit_results.append(res.average)"
   ]
  },
  {
   "cell_type": "markdown",
   "metadata": {},
   "source": [
    "Check the $4^d$ scaling"
   ]
  },
  {
   "cell_type": "code",
   "execution_count": 15,
   "metadata": {},
   "outputs": [
    {
     "data": {
      "text/plain": [
       "[<matplotlib.lines.Line2D at 0x1a1dc49c18>,\n",
       " <matplotlib.lines.Line2D at 0x10c650438>]"
      ]
     },
     "execution_count": 15,
     "metadata": {},
     "output_type": "execute_result"
    },
    {
     "data": {
      "image/png": "[encoded data removed]",
      "text/plain": [
       "<Figure size 432x288 with 1 Axes>"
      ]
     },
     "metadata": {
      "needs_background": "light"
     },
     "output_type": "display_data"
    }
   ],
   "source": [
    "plt.semilogy(depths, timeit_results, depths, 0.00000005*4**depths)"
   ]
  },
  {
   "cell_type": "markdown",
   "metadata": {},
   "source": [
    "## CPTP map simulation"
   ]
  },
  {
   "cell_type": "code",
   "execution_count": 3,
   "metadata": {},
   "outputs": [
    {
     "name": "stdout",
     "output_type": "stream",
     "text": [
      "depth:  5\n",
      "depth:  6\n",
      "depth:  7\n",
      "depth:  8\n",
      "depth:  9\n",
      "depth:  10\n"
     ]
    }
   ],
   "source": [
    "q = 2\n",
    "purities = []\n",
    "depths = np.arange(5, 11)\n",
    "for d in depths:\n",
    "    \n",
    "    print(\"depth: \", d)\n",
    "    ρ = random_ρ(q, d - 1)\n",
    "    purity_trace = np.array([])\n",
    "    eigenvalues = np.array([])\n",
    "\n",
    "    for step in range(1000):\n",
    "        purity_trace = np.append(purity_trace, trace_square(ρ))\n",
    "        eigenvalues = np.concatenate([eigenvalues, eigh(tensor_to_matrix(ρ), eigvals_only=True)])\n",
    "        ρ = cptp_map(ρ, random_gates(q, d))\n",
    "    \n",
    "    purities.append(-np.log(np.mean(purity_trace)))"
   ]
  },
  {
   "cell_type": "code",
   "execution_count": 11,
   "metadata": {},
   "outputs": [
    {
     "data": {
      "image/png": "[encoded data removed]",
      "text/plain": [
       "<Figure size 432x288 with 1 Axes>"
      ]
     },
     "metadata": {
      "needs_background": "light"
     },
     "output_type": "display_data"
    }
   ],
   "source": [
    "plt.plot(depths, purities)\n",
    "plt.plot(depths, (depths - 1) * np.log(5/4))\n",
    "plt.xlabel(\"Depth\")\n",
    "plt.ylabel(\"$-\\log\\gamma$\");"
   ]
  },
  {
   "cell_type": "markdown",
   "metadata": {},
   "source": [
    "Fits nicely with the predicted $(4/5)^t$ behaviour of the purity!"
   ]
  },
  {
   "cell_type": "markdown",
   "metadata": {},
   "source": [
    "## Purity from CPTP map"
   ]
  },
  {
   "cell_type": "code",
   "execution_count": 5,
   "metadata": {},
   "outputs": [
    {
     "data": {
      "text/plain": [
       "(0.13320734449324811-1.8874435759237615e-18j)"
      ]
     },
     "execution_count": 5,
     "metadata": {},
     "output_type": "execute_result"
    }
   ],
   "source": [
    "np.mean(purity_trace)"
   ]
  },
  {
   "cell_type": "code",
   "execution_count": 6,
   "metadata": {},
   "outputs": [
    {
     "data": {
      "text/plain": [
       "(2.015848383557739+1.416921554216127e-17j)"
      ]
     },
     "execution_count": 6,
     "metadata": {},
     "output_type": "execute_result"
    }
   ],
   "source": [
    "-np.log(np.mean(purity_trace))"
   ]
  },
  {
   "cell_type": "code",
   "execution_count": 9,
   "metadata": {},
   "outputs": [
    {
     "data": {
      "text/plain": [
       "2.0082919618278874"
      ]
     },
     "execution_count": 9,
     "metadata": {},
     "output_type": "execute_result"
    }
   ],
   "source": [
    "-np.log((4/5)**9)"
   ]
  },
  {
   "cell_type": "code",
   "execution_count": 41,
   "metadata": {},
   "outputs": [
    {
     "data": {
      "image/png": "[encoded data removed]",
      "text/plain": [
       "<Figure size 432x288 with 1 Axes>"
      ]
     },
     "metadata": {
      "needs_background": "light"
     },
     "output_type": "display_data"
    }
   ],
   "source": [
    "plt.plot(-np.log(np.real(purity_trace)))\n",
    "plt.xlabel(\"Step\")\n",
    "plt.ylabel(\"Second Renyi Entropy\");"
   ]
  },
  {
   "cell_type": "code",
   "execution_count": 24,
   "metadata": {},
   "outputs": [
    {
     "data": {
      "image/png": "[encoded data removed]",
      "text/plain": [
       "<Figure size 432x288 with 1 Axes>"
      ]
     },
     "metadata": {
      "needs_background": "light"
     },
     "output_type": "display_data"
    }
   ],
   "source": [
    "plt.hist(-np.log(np.real(purity_trace)), bins=50);"
   ]
  },
  {
   "cell_type": "markdown",
   "metadata": {},
   "source": [
    "## Spectrum"
   ]
  },
  {
   "cell_type": "code",
   "execution_count": 10,
   "metadata": {},
   "outputs": [
    {
     "name": "stderr",
     "output_type": "stream",
     "text": [
      "/Users/austenlamacraft/anaconda3/lib/python3.7/site-packages/ipykernel_launcher.py:1: RuntimeWarning: invalid value encountered in log\n",
      "  \"\"\"Entry point for launching an IPython kernel.\n",
      "/Users/austenlamacraft/anaconda3/lib/python3.7/site-packages/numpy/lib/histograms.py:754: RuntimeWarning: invalid value encountered in greater_equal\n",
      "  keep = (tmp_a >= first_edge)\n",
      "/Users/austenlamacraft/anaconda3/lib/python3.7/site-packages/numpy/lib/histograms.py:755: RuntimeWarning: invalid value encountered in less_equal\n",
      "  keep &= (tmp_a <= last_edge)\n"
     ]
    },
    {
     "data": {
      "image/png": "[encoded data removed]",
      "text/plain": [
       "<Figure size 432x288 with 1 Axes>"
      ]
     },
     "metadata": {
      "needs_background": "light"
     },
     "output_type": "display_data"
    }
   ],
   "source": [
    "plt.hist(np.log(eigenvalues), bins=200);"
   ]
  },
  {
   "cell_type": "markdown",
   "metadata": {},
   "source": [
    "Compare with fully random density matrix"
   ]
  },
  {
   "cell_type": "code",
   "execution_count": 26,
   "metadata": {},
   "outputs": [
    {
     "data": {
      "image/png": "[encoded data removed]",
      "text/plain": [
       "<Figure size 432x288 with 1 Axes>"
      ]
     },
     "metadata": {
      "needs_background": "light"
     },
     "output_type": "display_data"
    }
   ],
   "source": [
    "plt.hist(np.log(eigh(tensor_to_matrix(random_ρ(2, 10)), eigvals_only=True)), bins=100);"
   ]
  },
  {
   "cell_type": "markdown",
   "metadata": {},
   "source": [
    "## Purity from Trajectories\n",
    "\n",
    "Now we try it the second way using the relationship\n",
    "\n",
    "$$\n",
    "\\gamma = \\mathrm tr\\left[\\rho_A^2\\right] = \\mathbb{E}|\\langle\\psi_{x_1:x_N}|\\psi_{y_1:y_N}\\rangle|^2\n",
    "$$\n",
    "\n",
    "where $|\\psi_{x_1:x_N}\\rangle$ represents a normalized ancilla state arising from the trajectory $x_1:x_N$, where each step of the trajetory consists of a pair $x_j=(x^{(1)}_j, x^{(2)}_{j})$, where $x^{(1,2)}_j\\in 1,\\ldots q$. It is important that the trajectories are sampled from the probabilites corresponding to the ancilla states followed.\n",
    "\n",
    "__Note__ that this way requires one extra unitary as we don't do the sum over $x_j$.\n",
    "\n",
    "__Opportunity__ to parallelize as one just needs to gather the inner products"
   ]
  },
  {
   "cell_type": "code",
   "execution_count": 26,
   "metadata": {},
   "outputs": [],
   "source": [
    "import time"
   ]
  },
  {
   "cell_type": "code",
   "execution_count": null,
   "metadata": {},
   "outputs": [
    {
     "name": "stdout",
     "output_type": "stream",
     "text": [
      "Depth:  5\n",
      "Thu Feb  7 11:27:10 2019\n",
      "Depth:  6\n",
      "Thu Feb  7 11:27:11 2019\n",
      "Depth:  7\n",
      "Thu Feb  7 11:27:12 2019\n",
      "Depth:  8\n",
      "Thu Feb  7 11:27:14 2019\n",
      "Depth:  9\n",
      "Thu Feb  7 11:27:15 2019\n",
      "Depth:  10\n",
      "Thu Feb  7 11:27:18 2019\n",
      "Depth:  11\n",
      "Thu Feb  7 11:27:22 2019\n",
      "Depth:  12\n",
      "Thu Feb  7 11:27:29 2019\n",
      "Depth:  13\n",
      "Thu Feb  7 11:27:44 2019\n",
      "Depth:  14\n",
      "Thu Feb  7 11:28:15 2019\n",
      "Depth:  15\n",
      "Thu Feb  7 11:29:20 2019\n",
      "Depth:  16\n",
      "Thu Feb  7 11:31:42 2019\n",
      "Depth:  17\n",
      "Thu Feb  7 11:36:52 2019\n",
      "Depth:  18\n",
      "Thu Feb  7 11:47:44 2019\n"
     ]
    }
   ],
   "source": [
    "q = 2\n",
    "purities_traj = []\n",
    "depths = np.arange(5, 19)\n",
    "for d in depths:\n",
    "    \n",
    "    print(\"Depth: \", d)\n",
    "    print(time.ctime())\n",
    "    state1 = random_state(q, d - 1)\n",
    "    state2 = state1\n",
    "    purity_traj = np.array([])\n",
    "\n",
    "    for step in range(1000):\n",
    "        purity_traj = np.append(purity_traj, np.abs(inner_product(state1, state2))**2)\n",
    "        gates = random_gates(q, d) \n",
    "        probs1, states1 = next_step(state1, gates)\n",
    "        probs2, states2 = next_step(state2, gates)\n",
    "        state1 = states1[np.random.choice(range(q**2), p=probs1)]\n",
    "        state2 = states2[np.random.choice(range(q**2), p=probs2)]\n",
    "    \n",
    "    purities_traj.append(np.mean(purity_traj))\n"
   ]
  },
  {
   "cell_type": "code",
   "execution_count": 60,
   "metadata": {},
   "outputs": [
    {
     "data": {
      "image/png": "[encoded data removed]",
      "text/plain": [
       "<Figure size 432x288 with 1 Axes>"
      ]
     },
     "metadata": {
      "needs_background": "light"
     },
     "output_type": "display_data"
    }
   ],
   "source": [
    "plt.plot(depths, -np.log(purities_traj))\n",
    "plt.plot(depths, (depths - 1) * np.log(5/4))\n",
    "plt.xlabel(\"Depth\")\n",
    "plt.ylabel(\"Second Renyi Entropy\");"
   ]
  },
  {
   "cell_type": "code",
   "execution_count": 48,
   "metadata": {},
   "outputs": [
    {
     "name": "stdout",
     "output_type": "stream",
     "text": [
      "step:  0\n",
      "step:  1\n",
      "step:  2\n",
      "step:  3\n",
      "step:  4\n",
      "step:  5\n",
      "step:  6\n",
      "step:  7\n",
      "step:  8\n",
      "step:  9\n",
      "step:  10\n",
      "step:  11\n",
      "step:  12\n",
      "step:  13\n",
      "step:  14\n",
      "step:  15\n",
      "step:  16\n",
      "step:  17\n",
      "step:  18\n",
      "step:  19\n",
      "step:  20\n",
      "step:  21\n",
      "step:  22\n",
      "step:  23\n",
      "step:  24\n",
      "step:  25\n",
      "step:  26\n",
      "step:  27\n",
      "step:  28\n",
      "step:  29\n",
      "step:  30\n",
      "step:  31\n",
      "step:  32\n",
      "step:  33\n",
      "step:  34\n",
      "step:  35\n",
      "step:  36\n",
      "step:  37\n",
      "step:  38\n",
      "step:  39\n",
      "step:  40\n",
      "step:  41\n",
      "step:  42\n",
      "step:  43\n",
      "step:  44\n",
      "step:  45\n",
      "step:  46\n",
      "step:  47\n",
      "step:  48\n",
      "step:  49\n",
      "step:  50\n",
      "step:  51\n",
      "step:  52\n",
      "step:  53\n",
      "step:  54\n",
      "step:  55\n",
      "step:  56\n",
      "step:  57\n",
      "step:  58\n",
      "step:  59\n",
      "step:  60\n",
      "step:  61\n",
      "step:  62\n",
      "step:  63\n",
      "step:  64\n",
      "step:  65\n",
      "step:  66\n",
      "step:  67\n",
      "step:  68\n",
      "step:  69\n",
      "step:  70\n",
      "step:  71\n",
      "step:  72\n",
      "step:  73\n",
      "step:  74\n",
      "step:  75\n",
      "step:  76\n",
      "step:  77\n",
      "step:  78\n",
      "step:  79\n",
      "step:  80\n",
      "step:  81\n",
      "step:  82\n",
      "step:  83\n",
      "step:  84\n",
      "step:  85\n",
      "step:  86\n",
      "step:  87\n",
      "step:  88\n",
      "step:  89\n",
      "step:  90\n",
      "step:  91\n",
      "step:  92\n",
      "step:  93\n",
      "step:  94\n",
      "step:  95\n",
      "step:  96\n",
      "step:  97\n",
      "step:  98\n",
      "step:  99\n"
     ]
    }
   ],
   "source": [
    "depth = 20\n",
    "state1 = random_state(q, depth - 1)\n",
    "state2 = random_state(q, depth - 1)\n",
    "purity_traj = np.array([])\n",
    "\n",
    "for step in range(100):\n",
    "    purity_traj = np.append(purity_traj, np.abs(inner_product(state1, state2))**2)\n",
    "    gates = random_gates(q, depth) \n",
    "    probs1, states1 = next_step(state1, gates)\n",
    "    probs2, states2 = next_step(state2, gates)\n",
    "    state1 = states1[np.random.choice(range(q**2), p=probs1)]\n",
    "    state2 = states2[np.random.choice(range(q**2), p=probs2)]\n",
    "\n",
    "    print(\"step: \", step)"
   ]
  },
  {
   "cell_type": "code",
   "execution_count": 49,
   "metadata": {},
   "outputs": [
    {
     "data": {
      "text/plain": [
       "[<matplotlib.lines.Line2D at 0x1a21c3fcf8>]"
      ]
     },
     "execution_count": 49,
     "metadata": {},
     "output_type": "execute_result"
    },
    {
     "data": {
      "image/png": "[encoded data removed]",
      "text/plain": [
       "<Figure size 432x288 with 1 Axes>"
      ]
     },
     "metadata": {
      "needs_background": "light"
     },
     "output_type": "display_data"
    }
   ],
   "source": [
    "plt.plot(purity_traj)\n"
   ]
  },
  {
   "cell_type": "code",
   "execution_count": 55,
   "metadata": {},
   "outputs": [
    {
     "data": {
      "text/plain": [
       "0.015277429252694276"
      ]
     },
     "execution_count": 55,
     "metadata": {},
     "output_type": "execute_result"
    }
   ],
   "source": [
    "np.mean(purity_traj[10:])"
   ]
  },
  {
   "cell_type": "code",
   "execution_count": 51,
   "metadata": {},
   "outputs": [
    {
     "data": {
      "text/plain": [
       "0.014411518807585602"
      ]
     },
     "execution_count": 51,
     "metadata": {},
     "output_type": "execute_result"
    }
   ],
   "source": [
    "(4/5)**19"
   ]
  },
  {
   "cell_type": "code",
   "execution_count": null,
   "metadata": {},
   "outputs": [],
   "source": []
  }
 ],
 "metadata": {
  "kernelspec": {
   "display_name": "Python 3",
   "language": "python",
   "name": "python3"
  },
  "language_info": {
   "codemirror_mode": {
    "name": "ipython",
    "version": 3
   },
   "file_extension": ".py",
   "mimetype": "text/x-python",
   "name": "python",
   "nbconvert_exporter": "python",
   "pygments_lexer": "ipython3",
   "version": "3.7.2"
  }
 },
 "nbformat": 4,
 "nbformat_minor": 2
}
