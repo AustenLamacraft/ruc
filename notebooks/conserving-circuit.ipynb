{
 "cells": [
  {
   "cell_type": "code",
   "execution_count": 1,
   "metadata": {},
   "outputs": [],
   "source": [
    "import numpy as np\n",
    "from scipy.linalg import eigh\n",
    "import matplotlib.pyplot as plt\n",
    "import sys\n",
    "sys.path.append(\"../\")"
   ]
  },
  {
   "cell_type": "code",
   "execution_count": 2,
   "metadata": {},
   "outputs": [],
   "source": [
    "from ruc import (cptp_map, next_step, tensor_trace, trace_square, matrix_to_tensor, \n",
    "                        tensor_to_matrix, random_ρ, conserving_gates, random_state, inner_product)"
   ]
  },
  {
   "cell_type": "markdown",
   "metadata": {},
   "source": [
    "## Conserving circuit simulation"
   ]
  },
  {
   "cell_type": "code",
   "execution_count": 3,
   "metadata": {},
   "outputs": [
    {
     "name": "stdout",
     "output_type": "stream",
     "text": [
      "depth:  5\n",
      "depth:  6\n",
      "depth:  7\n",
      "depth:  8\n",
      "depth:  9\n"
     ]
    }
   ],
   "source": [
    "purities = []\n",
    "depths = np.arange(5, 10)\n",
    "for d in depths:\n",
    "    \n",
    "    print(\"depth: \", d)\n",
    "    ρ = random_ρ(2, d - 1)\n",
    "    purity_trace = np.array([])\n",
    "    eigenvalues = np.array([])\n",
    "\n",
    "    for step in range(1000):\n",
    "        purity_trace = np.append(purity_trace, trace_square(ρ))\n",
    "        eigenvalues = np.concatenate([eigenvalues, eigh(tensor_to_matrix(ρ), eigvals_only=True)])\n",
    "        ρ = cptp_map(ρ, conserving_gates(d))\n",
    "    \n",
    "    purities.append(np.mean(purity_trace))"
   ]
  },
  {
   "cell_type": "code",
   "execution_count": 4,
   "metadata": {},
   "outputs": [
    {
     "name": "stderr",
     "output_type": "stream",
     "text": [
      "/Users/austenlamacraft/anaconda3/lib/python3.7/site-packages/numpy/core/numeric.py:501: ComplexWarning: Casting complex values to real discards the imaginary part\n",
      "  return array(a, dtype, copy=False, order=order)\n"
     ]
    },
    {
     "data": {
      "image/png": "[encoded data removed]",
      "text/plain": [
       "<Figure size 432x288 with 1 Axes>"
      ]
     },
     "metadata": {
      "needs_background": "light"
     },
     "output_type": "display_data"
    }
   ],
   "source": [
    "plt.plot(depths, -np.log(purities))\n",
    "plt.plot(depths, (depths - 1) * np.log(5/4))\n",
    "plt.xlabel(\"Depth\")\n",
    "plt.ylabel(\"$-\\log\\gamma$\");"
   ]
  },
  {
   "cell_type": "code",
   "execution_count": 16,
   "metadata": {},
   "outputs": [],
   "source": [
    "np.save(\"conserving_purities\", purities)"
   ]
  },
  {
   "cell_type": "markdown",
   "metadata": {},
   "source": [
    "Fits nicely with the predicted $(4/5)^t$ behaviour of the purity!"
   ]
  },
  {
   "cell_type": "markdown",
   "metadata": {},
   "source": [
    "## Purity from Trajectories\n",
    "\n",
    "Now we try it the second way using the relationship\n",
    "\n",
    "$$\n",
    "\\gamma = \\mathrm tr\\left[\\rho_A^2\\right] = \\mathbb{E}|\\langle\\psi_{x_1:x_N}|\\psi_{y_1:y_N}\\rangle|^2\n",
    "$$\n",
    "\n",
    "where $|\\psi_{x_1:x_N}\\rangle$ represents a normalized ancilla state arising from the trajectory $x_1:x_N$, where each step of the trajetory consists of a pair $x_j=(x^{(1)}_j, x^{(2)}_{j})$, where $x^{(1,2)}_j\\in 1,\\ldots q$. It is important that the trajectories are sampled from the probabilites corresponding to the ancilla states followed.\n",
    "\n",
    "__Note__ that this way requires one extra unitary as we don't do the sum over $x_j$.\n",
    "\n",
    "__Opportunity__ to parallelize as one just needs to gather the inner products across trajectories"
   ]
  },
  {
   "cell_type": "code",
   "execution_count": 19,
   "metadata": {},
   "outputs": [],
   "source": [
    "import time"
   ]
  },
  {
   "cell_type": "code",
   "execution_count": 20,
   "metadata": {},
   "outputs": [
    {
     "name": "stdout",
     "output_type": "stream",
     "text": [
      "Depth:  5\n",
      "Fri Feb 15 16:20:25 2019\n",
      "Depth:  6\n",
      "Fri Feb 15 16:20:26 2019\n",
      "Depth:  7\n",
      "Fri Feb 15 16:20:27 2019\n",
      "Depth:  8\n",
      "Fri Feb 15 16:20:29 2019\n",
      "Depth:  9\n",
      "Fri Feb 15 16:20:30 2019\n",
      "Depth:  10\n",
      "Fri Feb 15 16:20:33 2019\n",
      "Depth:  11\n",
      "Fri Feb 15 16:20:37 2019\n",
      "Depth:  12\n",
      "Fri Feb 15 16:20:44 2019\n",
      "Depth:  13\n",
      "Fri Feb 15 16:21:00 2019\n",
      "Depth:  14\n",
      "Fri Feb 15 16:21:33 2019\n",
      "Depth:  15\n",
      "Fri Feb 15 16:22:42 2019\n",
      "Depth:  16\n",
      "Fri Feb 15 16:25:08 2019\n",
      "Depth:  17\n",
      "Fri Feb 15 16:30:16 2019\n",
      "Depth:  18\n",
      "Fri Feb 15 16:41:30 2019\n"
     ]
    }
   ],
   "source": [
    "purities_traj = []\n",
    "variances = []\n",
    "depths = np.arange(5, 19)\n",
    "for d in depths:\n",
    "    \n",
    "    print(\"Depth: \", d)\n",
    "    print(time.ctime())\n",
    "    state1 = random_state(q, d - 1)\n",
    "    state2 = state1\n",
    "    purity_traj = np.array([])\n",
    "\n",
    "    for step in range(1000):\n",
    "        purity_traj = np.append(purity_traj, np.abs(inner_product(state1, state2))**2)\n",
    "        gates = conserving_gates(d) \n",
    "        probs1, states1 = next_step(state1, gates)\n",
    "        probs2, states2 = next_step(state2, gates)\n",
    "        state1 = states1[np.random.choice(range(4), p=probs1)]\n",
    "        state2 = states2[np.random.choice(range(4), p=probs2)]\n",
    "    \n",
    "    purities_traj.append(np.mean(purity_traj))\n",
    "    variances.append(np.var(purity_traj))\n"
   ]
  },
  {
   "cell_type": "code",
   "execution_count": 23,
   "metadata": {},
   "outputs": [],
   "source": [
    "np.save(\"conserving_traj_purity\", purities_traj)\n",
    "np.save(\"conserving_traj_purity_vars\", variances)"
   ]
  },
  {
   "cell_type": "markdown",
   "metadata": {},
   "source": [
    "## Plotting results"
   ]
  },
  {
   "cell_type": "code",
   "execution_count": 17,
   "metadata": {},
   "outputs": [],
   "source": [
    "purities_traj = np.load(\"conserving_traj_purity.npy\")\n",
    "variances = np.load(\"conserving_traj_purity_vars.npy\")\n",
    "purities = np.load(\"conserving_purities.npy\")"
   ]
  },
  {
   "cell_type": "code",
   "execution_count": 74,
   "metadata": {},
   "outputs": [
    {
     "name": "stderr",
     "output_type": "stream",
     "text": [
      "/Users/austenlamacraft/anaconda3/lib/python3.7/site-packages/numpy/core/numeric.py:553: ComplexWarning: Casting complex values to real discards the imaginary part\n",
      "  return array(a, dtype, copy=False, order=order, subok=True)\n"
     ]
    },
    {
     "data": {
      "image/png": "[encoded data removed]",
      "text/plain": [
       "<Figure size 432x288 with 1 Axes>"
      ]
     },
     "metadata": {
      "needs_background": "light"
     },
     "output_type": "display_data"
    }
   ],
   "source": [
    "depths = np.arange(5,12)\n",
    "plt.scatter(depths, purities, marker='o', color='r')\n",
    "depths = np.arange(5,19)\n",
    "plt.errorbar(depths, purities_traj, yerr=variances, linestyle=\"None\", color='g')\n",
    "plt.yscale(\"log\")\n",
    "# plt.semilogy(depths, purities_traj, marker='x')\n",
    "plt.plot(depths, (4/5)**(depths - 1), linestyle=\"--\")\n",
    "plt.xlabel(\"$t$\", fontsize=20)\n",
    "plt.ylabel(r\"$\\bar \\gamma$\", fontsize=20, rotation=0);\n",
    "plt.savefig(\"trajectory_purity.png\")"
   ]
  },
  {
   "cell_type": "code",
   "execution_count": null,
   "metadata": {},
   "outputs": [],
   "source": []
  }
 ],
 "metadata": {
  "kernelspec": {
   "display_name": "Python 3",
   "language": "python",
   "name": "python3"
  },
  "language_info": {
   "codemirror_mode": {
    "name": "ipython",
    "version": 3
   },
   "file_extension": ".py",
   "mimetype": "text/x-python",
   "name": "python",
   "nbconvert_exporter": "python",
   "pygments_lexer": "ipython3",
   "version": "3.7.1"
  }
 },
 "nbformat": 4,
 "nbformat_minor": 2
}
